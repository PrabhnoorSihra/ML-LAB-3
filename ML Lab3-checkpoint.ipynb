{
 "cells": [
  {
   "cell_type": "code",
   "execution_count": 1,
   "metadata": {},
   "outputs": [],
   "source": [
    "import pandas as pd"
   ]
  },
  {
   "cell_type": "code",
   "execution_count": 2,
   "metadata": {},
   "outputs": [],
   "source": [
    "df = pd.read_csv('Advertising.csv')"
   ]
  },
  {
   "cell_type": "code",
   "execution_count": 3,
   "metadata": {},
   "outputs": [],
   "source": [
    "df.head()\n",
    "df = df.drop(columns = 'Unnamed: 0')"
   ]
  },
  {
   "cell_type": "code",
   "execution_count": 4,
   "metadata": {},
   "outputs": [
    {
     "name": "stdout",
     "output_type": "stream",
     "text": [
      "<class 'pandas.core.frame.DataFrame'>\n",
      "RangeIndex: 200 entries, 0 to 199\n",
      "Data columns (total 4 columns):\n",
      "TV           200 non-null float64\n",
      "radio        200 non-null float64\n",
      "newspaper    200 non-null float64\n",
      "sales        200 non-null float64\n",
      "dtypes: float64(4)\n",
      "memory usage: 6.3 KB\n",
      "None\n"
     ]
    }
   ],
   "source": [
    "#A\n",
    "print(df.info())"
   ]
  },
  {
   "cell_type": "code",
   "execution_count": 5,
   "metadata": {},
   "outputs": [
    {
     "name": "stdout",
     "output_type": "stream",
     "text": [
      "                            OLS Regression Results                            \n",
      "==============================================================================\n",
      "Dep. Variable:                  sales   R-squared:                       0.897\n",
      "Model:                            OLS   Adj. R-squared:                  0.896\n",
      "Method:                 Least Squares   F-statistic:                     570.3\n",
      "Date:                Fri, 06 Mar 2020   Prob (F-statistic):           1.58e-96\n",
      "Time:                        16:56:16   Log-Likelihood:                -386.18\n",
      "No. Observations:                 200   AIC:                             780.4\n",
      "Df Residuals:                     196   BIC:                             793.6\n",
      "Df Model:                           3                                         \n",
      "Covariance Type:            nonrobust                                         \n",
      "==============================================================================\n",
      "                 coef    std err          t      P>|t|      [0.025      0.975]\n",
      "------------------------------------------------------------------------------\n",
      "Intercept      2.9389      0.312      9.422      0.000       2.324       3.554\n",
      "TV             0.0458      0.001     32.809      0.000       0.043       0.049\n",
      "radio          0.1885      0.009     21.893      0.000       0.172       0.206\n",
      "newspaper     -0.0010      0.006     -0.177      0.860      -0.013       0.011\n",
      "==============================================================================\n",
      "Omnibus:                       60.414   Durbin-Watson:                   2.084\n",
      "Prob(Omnibus):                  0.000   Jarque-Bera (JB):              151.241\n",
      "Skew:                          -1.327   Prob(JB):                     1.44e-33\n",
      "Kurtosis:                       6.332   Cond. No.                         454.\n",
      "==============================================================================\n",
      "\n",
      "Warnings:\n",
      "[1] Standard Errors assume that the covariance matrix of the errors is correctly specified.\n",
      "Intercept    1.267295e-17\n",
      "TV           1.509960e-81\n",
      "radio        1.505339e-54\n",
      "newspaper    8.599151e-01\n",
      "dtype: float64\n"
     ]
    }
   ],
   "source": [
    "#B\n",
    "import statsmodels.formula.api as smf\n",
    "model1 = smf.ols('sales ~ TV + radio + newspaper', df).fit()\n",
    "print(model1.summary())\n",
    "print(model1.pvalues)"
   ]
  },
  {
   "cell_type": "code",
   "execution_count": 6,
   "metadata": {},
   "outputs": [
    {
     "data": {
      "text/plain": [
       "array([[<matplotlib.axes._subplots.AxesSubplot object at 0x0000014ACD8C19E8>,\n",
       "        <matplotlib.axes._subplots.AxesSubplot object at 0x0000014ACD9511D0>,\n",
       "        <matplotlib.axes._subplots.AxesSubplot object at 0x0000014ACD984780>,\n",
       "        <matplotlib.axes._subplots.AxesSubplot object at 0x0000014ACD9B6D30>],\n",
       "       [<matplotlib.axes._subplots.AxesSubplot object at 0x0000014ACD9F5320>,\n",
       "        <matplotlib.axes._subplots.AxesSubplot object at 0x0000014ACDA248D0>,\n",
       "        <matplotlib.axes._subplots.AxesSubplot object at 0x0000014ACDA57E80>,\n",
       "        <matplotlib.axes._subplots.AxesSubplot object at 0x0000014ACDA924A8>],\n",
       "       [<matplotlib.axes._subplots.AxesSubplot object at 0x0000014ACDA924E0>,\n",
       "        <matplotlib.axes._subplots.AxesSubplot object at 0x0000014ACDAF6FD0>,\n",
       "        <matplotlib.axes._subplots.AxesSubplot object at 0x0000014ACDB2F5C0>,\n",
       "        <matplotlib.axes._subplots.AxesSubplot object at 0x0000014ACEB31B70>],\n",
       "       [<matplotlib.axes._subplots.AxesSubplot object at 0x0000014ACEB71160>,\n",
       "        <matplotlib.axes._subplots.AxesSubplot object at 0x0000014ACEBA0710>,\n",
       "        <matplotlib.axes._subplots.AxesSubplot object at 0x0000014ACEBD1CC0>,\n",
       "        <matplotlib.axes._subplots.AxesSubplot object at 0x0000014ACEC0E2B0>]],\n",
       "      dtype=object)"
      ]
     },
     "execution_count": 6,
     "metadata": {},
     "output_type": "execute_result"
    }
   ],
   "source": [
    "#C\n",
    "\n",
    "from pandas.plotting import scatter_matrix\n",
    "scatter_matrix(df, alpha=0.9,figsize=(12,12), diagonal='hist')"
   ]
  },
  {
   "cell_type": "code",
   "execution_count": 7,
   "metadata": {},
   "outputs": [
    {
     "name": "stdout",
     "output_type": "stream",
     "text": [
      "                 TV     radio  newspaper     sales\n",
      "TV         1.000000  0.054809   0.056648  0.782224\n",
      "radio      0.054809  1.000000   0.354104  0.576223\n",
      "newspaper  0.056648  0.354104   1.000000  0.228299\n",
      "sales      0.782224  0.576223   0.228299  1.000000\n"
     ]
    }
   ],
   "source": [
    "pair_corr_coeff = df.corr()\n",
    "print(pair_corr_coeff)"
   ]
  },
  {
   "cell_type": "code",
   "execution_count": 8,
   "metadata": {},
   "outputs": [
    {
     "data": {
      "text/html": [
       "<style  type=\"text/css\" >\n",
       "    #T_4c64f154_5f9d_11ea_a774_f48e38f6131frow0_col0 {\n",
       "            background-color:  #023858;\n",
       "            color:  #f1f1f1;\n",
       "        }    #T_4c64f154_5f9d_11ea_a774_f48e38f6131frow0_col1 {\n",
       "            background-color:  #fff7fb;\n",
       "            color:  #000000;\n",
       "        }    #T_4c64f154_5f9d_11ea_a774_f48e38f6131frow0_col2 {\n",
       "            background-color:  #fff7fb;\n",
       "            color:  #000000;\n",
       "        }    #T_4c64f154_5f9d_11ea_a774_f48e38f6131frow0_col3 {\n",
       "            background-color:  #1278b4;\n",
       "            color:  #f1f1f1;\n",
       "        }    #T_4c64f154_5f9d_11ea_a774_f48e38f6131frow1_col0 {\n",
       "            background-color:  #fff7fb;\n",
       "            color:  #000000;\n",
       "        }    #T_4c64f154_5f9d_11ea_a774_f48e38f6131frow1_col1 {\n",
       "            background-color:  #023858;\n",
       "            color:  #f1f1f1;\n",
       "        }    #T_4c64f154_5f9d_11ea_a774_f48e38f6131frow1_col2 {\n",
       "            background-color:  #bbc7e0;\n",
       "            color:  #000000;\n",
       "        }    #T_4c64f154_5f9d_11ea_a774_f48e38f6131frow1_col3 {\n",
       "            background-color:  #88b1d4;\n",
       "            color:  #000000;\n",
       "        }    #T_4c64f154_5f9d_11ea_a774_f48e38f6131frow2_col0 {\n",
       "            background-color:  #fff7fb;\n",
       "            color:  #000000;\n",
       "        }    #T_4c64f154_5f9d_11ea_a774_f48e38f6131frow2_col1 {\n",
       "            background-color:  #b9c6e0;\n",
       "            color:  #000000;\n",
       "        }    #T_4c64f154_5f9d_11ea_a774_f48e38f6131frow2_col2 {\n",
       "            background-color:  #023858;\n",
       "            color:  #f1f1f1;\n",
       "        }    #T_4c64f154_5f9d_11ea_a774_f48e38f6131frow2_col3 {\n",
       "            background-color:  #fff7fb;\n",
       "            color:  #000000;\n",
       "        }    #T_4c64f154_5f9d_11ea_a774_f48e38f6131frow3_col0 {\n",
       "            background-color:  #056caa;\n",
       "            color:  #f1f1f1;\n",
       "        }    #T_4c64f154_5f9d_11ea_a774_f48e38f6131frow3_col1 {\n",
       "            background-color:  #5a9ec9;\n",
       "            color:  #000000;\n",
       "        }    #T_4c64f154_5f9d_11ea_a774_f48e38f6131frow3_col2 {\n",
       "            background-color:  #e0dded;\n",
       "            color:  #000000;\n",
       "        }    #T_4c64f154_5f9d_11ea_a774_f48e38f6131frow3_col3 {\n",
       "            background-color:  #023858;\n",
       "            color:  #f1f1f1;\n",
       "        }</style><table id=\"T_4c64f154_5f9d_11ea_a774_f48e38f6131f\" ><thead>    <tr>        <th class=\"blank level0\" ></th>        <th class=\"col_heading level0 col0\" >TV</th>        <th class=\"col_heading level0 col1\" >radio</th>        <th class=\"col_heading level0 col2\" >newspaper</th>        <th class=\"col_heading level0 col3\" >sales</th>    </tr></thead><tbody>\n",
       "                <tr>\n",
       "                        <th id=\"T_4c64f154_5f9d_11ea_a774_f48e38f6131flevel0_row0\" class=\"row_heading level0 row0\" >TV</th>\n",
       "                        <td id=\"T_4c64f154_5f9d_11ea_a774_f48e38f6131frow0_col0\" class=\"data row0 col0\" >1</td>\n",
       "                        <td id=\"T_4c64f154_5f9d_11ea_a774_f48e38f6131frow0_col1\" class=\"data row0 col1\" >0.0548087</td>\n",
       "                        <td id=\"T_4c64f154_5f9d_11ea_a774_f48e38f6131frow0_col2\" class=\"data row0 col2\" >0.0566479</td>\n",
       "                        <td id=\"T_4c64f154_5f9d_11ea_a774_f48e38f6131frow0_col3\" class=\"data row0 col3\" >0.782224</td>\n",
       "            </tr>\n",
       "            <tr>\n",
       "                        <th id=\"T_4c64f154_5f9d_11ea_a774_f48e38f6131flevel0_row1\" class=\"row_heading level0 row1\" >radio</th>\n",
       "                        <td id=\"T_4c64f154_5f9d_11ea_a774_f48e38f6131frow1_col0\" class=\"data row1 col0\" >0.0548087</td>\n",
       "                        <td id=\"T_4c64f154_5f9d_11ea_a774_f48e38f6131frow1_col1\" class=\"data row1 col1\" >1</td>\n",
       "                        <td id=\"T_4c64f154_5f9d_11ea_a774_f48e38f6131frow1_col2\" class=\"data row1 col2\" >0.354104</td>\n",
       "                        <td id=\"T_4c64f154_5f9d_11ea_a774_f48e38f6131frow1_col3\" class=\"data row1 col3\" >0.576223</td>\n",
       "            </tr>\n",
       "            <tr>\n",
       "                        <th id=\"T_4c64f154_5f9d_11ea_a774_f48e38f6131flevel0_row2\" class=\"row_heading level0 row2\" >newspaper</th>\n",
       "                        <td id=\"T_4c64f154_5f9d_11ea_a774_f48e38f6131frow2_col0\" class=\"data row2 col0\" >0.0566479</td>\n",
       "                        <td id=\"T_4c64f154_5f9d_11ea_a774_f48e38f6131frow2_col1\" class=\"data row2 col1\" >0.354104</td>\n",
       "                        <td id=\"T_4c64f154_5f9d_11ea_a774_f48e38f6131frow2_col2\" class=\"data row2 col2\" >1</td>\n",
       "                        <td id=\"T_4c64f154_5f9d_11ea_a774_f48e38f6131frow2_col3\" class=\"data row2 col3\" >0.228299</td>\n",
       "            </tr>\n",
       "            <tr>\n",
       "                        <th id=\"T_4c64f154_5f9d_11ea_a774_f48e38f6131flevel0_row3\" class=\"row_heading level0 row3\" >sales</th>\n",
       "                        <td id=\"T_4c64f154_5f9d_11ea_a774_f48e38f6131frow3_col0\" class=\"data row3 col0\" >0.782224</td>\n",
       "                        <td id=\"T_4c64f154_5f9d_11ea_a774_f48e38f6131frow3_col1\" class=\"data row3 col1\" >0.576223</td>\n",
       "                        <td id=\"T_4c64f154_5f9d_11ea_a774_f48e38f6131frow3_col2\" class=\"data row3 col2\" >0.228299</td>\n",
       "                        <td id=\"T_4c64f154_5f9d_11ea_a774_f48e38f6131frow3_col3\" class=\"data row3 col3\" >1</td>\n",
       "            </tr>\n",
       "    </tbody></table>"
      ],
      "text/plain": [
       "<pandas.io.formats.style.Styler at 0x14acf3ee198>"
      ]
     },
     "execution_count": 8,
     "metadata": {},
     "output_type": "execute_result"
    }
   ],
   "source": [
    "pair_corr_coeff.abs().style.background_gradient()"
   ]
  },
  {
   "cell_type": "code",
   "execution_count": 9,
   "metadata": {},
   "outputs": [
    {
     "data": {
      "image/png": "[encoded data removed]",
      "text/plain": [
       "<Figure size 288x288 with 2 Axes>"
      ]
     },
     "metadata": {
      "needs_background": "light"
     },
     "output_type": "display_data"
    }
   ],
   "source": [
    "import matplotlib.pyplot as plt\n",
    "import numpy as np\n",
    "\n",
    "%matplotlib inline\n",
    "\n",
    "plt.matshow(np.abs(pair_corr_coeff))\n",
    "plt.colorbar()\n",
    "plt.xticks(range(len(pair_corr_coeff.columns)), pair_corr_coeff.columns, rotation = 'vertical');\n",
    "plt.yticks(range(len(pair_corr_coeff.columns)), pair_corr_coeff.columns);"
   ]
  },
  {
   "cell_type": "code",
   "execution_count": 10,
   "metadata": {},
   "outputs": [
    {
     "data": {
      "text/html": [
       "<div>\n",
       "<style scoped>\n",
       "    .dataframe tbody tr th:only-of-type {\n",
       "        vertical-align: middle;\n",
       "    }\n",
       "\n",
       "    .dataframe tbody tr th {\n",
       "        vertical-align: top;\n",
       "    }\n",
       "\n",
       "    .dataframe thead th {\n",
       "        text-align: right;\n",
       "    }\n",
       "</style>\n",
       "<table border=\"1\" class=\"dataframe\">\n",
       "  <thead>\n",
       "    <tr style=\"text-align: right;\">\n",
       "      <th></th>\n",
       "      <th>VIF</th>\n",
       "      <th>Predictors</th>\n",
       "    </tr>\n",
       "  </thead>\n",
       "  <tbody>\n",
       "    <tr>\n",
       "      <th>0</th>\n",
       "      <td>6.849</td>\n",
       "      <td>Intercept</td>\n",
       "    </tr>\n",
       "    <tr>\n",
       "      <th>1</th>\n",
       "      <td>1.005</td>\n",
       "      <td>TV</td>\n",
       "    </tr>\n",
       "    <tr>\n",
       "      <th>2</th>\n",
       "      <td>1.145</td>\n",
       "      <td>radio</td>\n",
       "    </tr>\n",
       "    <tr>\n",
       "      <th>3</th>\n",
       "      <td>1.145</td>\n",
       "      <td>newspaper</td>\n",
       "    </tr>\n",
       "  </tbody>\n",
       "</table>\n",
       "</div>"
      ],
      "text/plain": [
       "     VIF Predictors\n",
       "0  6.849  Intercept\n",
       "1  1.005         TV\n",
       "2  1.145      radio\n",
       "3  1.145  newspaper"
      ]
     },
     "execution_count": 10,
     "metadata": {},
     "output_type": "execute_result"
    }
   ],
   "source": [
    "from statsmodels.stats.outliers_influence import variance_inflation_factor\n",
    "from patsy import dmatrices\n",
    "\n",
    "#features \n",
    "formula1 = 'sales ~ TV + radio + newspaper'\n",
    "yvar, xvar = dmatrices(formula1, df, return_type= 'dataframe')\n",
    "\n",
    "vif = pd.DataFrame()\n",
    "vif[\"VIF\"] = [variance_inflation_factor(xvar.values, i) for i in range(xvar.shape[1])]\n",
    "vif[\"Predictors\"] = xvar.columns\n",
    "vif.round(3)"
   ]
  },
  {
   "cell_type": "code",
   "execution_count": 11,
   "metadata": {},
   "outputs": [
    {
     "data": {
      "text/html": [
       "<div>\n",
       "<style scoped>\n",
       "    .dataframe tbody tr th:only-of-type {\n",
       "        vertical-align: middle;\n",
       "    }\n",
       "\n",
       "    .dataframe tbody tr th {\n",
       "        vertical-align: top;\n",
       "    }\n",
       "\n",
       "    .dataframe thead th {\n",
       "        text-align: right;\n",
       "    }\n",
       "</style>\n",
       "<table border=\"1\" class=\"dataframe\">\n",
       "  <thead>\n",
       "    <tr style=\"text-align: right;\">\n",
       "      <th></th>\n",
       "      <th>VIF</th>\n",
       "      <th>Predictors</th>\n",
       "    </tr>\n",
       "  </thead>\n",
       "  <tbody>\n",
       "    <tr>\n",
       "      <th>0</th>\n",
       "      <td>6.849</td>\n",
       "      <td>Intercept</td>\n",
       "    </tr>\n",
       "    <tr>\n",
       "      <th>1</th>\n",
       "      <td>1.005</td>\n",
       "      <td>TV</td>\n",
       "    </tr>\n",
       "    <tr>\n",
       "      <th>2</th>\n",
       "      <td>1.145</td>\n",
       "      <td>radio</td>\n",
       "    </tr>\n",
       "    <tr>\n",
       "      <th>3</th>\n",
       "      <td>1.145</td>\n",
       "      <td>newspaper</td>\n",
       "    </tr>\n",
       "  </tbody>\n",
       "</table>\n",
       "</div>"
      ],
      "text/plain": [
       "     VIF Predictors\n",
       "0  6.849  Intercept\n",
       "1  1.005         TV\n",
       "2  1.145      radio\n",
       "3  1.145  newspaper"
      ]
     },
     "execution_count": 11,
     "metadata": {},
     "output_type": "execute_result"
    }
   ],
   "source": [
    "from statsmodels.stats.outliers_influence import variance_inflation_factor\n",
    "from patsy import dmatrices\n",
    "#gather features\n",
    "formula1 = 'sales ~ TV + radio + newspaper'\n",
    "# get y and X dataframes based on this regression:\n",
    "yvar, Xvar = dmatrices(formula1, df, return_type='dataframe')\n",
    "#print(Xvar)\n",
    "# For each Xvar, calculate VIF and save in dataframe\n",
    "vif = pd.DataFrame()\n",
    "vif[\"VIF\"] = [variance_inflation_factor(Xvar.values, i) for i in range(Xvar.shape[1])]\n",
    "vif[\"Predictors\"] = Xvar.columns\n",
    "vif.round(3)"
   ]
  },
  {
   "cell_type": "code",
   "execution_count": 12,
   "metadata": {},
   "outputs": [
    {
     "data": {
      "text/plain": [
       "([<matplotlib.lines.Line2D at 0x14acf952828>],\n",
       " Text(0.5, 0, 'predicted sales'),\n",
       " Text(0, 0.5, 'Studentized residuals'))"
      ]
     },
     "execution_count": 12,
     "metadata": {},
     "output_type": "execute_result"
    },
    {
     "data": {
      "image/png": "[encoded data removed]",
      "text/plain": [
       "<Figure size 432x288 with 1 Axes>"
      ]
     },
     "metadata": {
      "needs_background": "light"
     },
     "output_type": "display_data"
    }
   ],
   "source": [
    "#First compute the studentized residuals.\n",
    "studentized_residuals_model1 = model1.get_influence().resid_studentized_internal\n",
    "#Second compute the predicted values of Y from the model.\n",
    "predicted_Y_model1 = model1.predict()\n",
    "plt.plot(predicted_Y_model1, studentized_residuals_model1, 'o'), plt.xlabel(\"predicted sales\"), plt.ylabel(\"Studentized residuals\")"
   ]
  },
  {
   "cell_type": "code",
   "execution_count": 13,
   "metadata": {},
   "outputs": [
    {
     "data": {
      "text/plain": [
       "(Text(0.5, 0, 'predicted sales'), Text(0, 0.5, 'studentized residual'))"
      ]
     },
     "execution_count": 13,
     "metadata": {},
     "output_type": "execute_result"
    },
    {
     "data": {
      "image/png": "[encoded data removed]",
      "text/plain": [
       "<Figure size 432x288 with 1 Axes>"
      ]
     },
     "metadata": {
      "needs_background": "light"
     },
     "output_type": "display_data"
    }
   ],
   "source": [
    "#E\n",
    "from statsmodels.nonparametric.smoothers_lowess import lowess\n",
    "multi_lowess_result = lowess(studentized_residuals_model1, predicted_Y_model1, is_sorted=False, frac=1/2, it=0)\n",
    "plt.plot(predicted_Y_model1, studentized_residuals_model1, 'o'), plt.xlabel(\"predicted sales\"), plt.ylabel(\"Studentized residuals\")\n",
    "plt.plot(multi_lowess_result[:, 0], multi_lowess_result[:, 1], 'r-', linewidth=3)\n",
    "plt.xlabel('predicted sales'), plt.ylabel('studentized residual')"
   ]
  },
  {
   "cell_type": "code",
   "execution_count": 14,
   "metadata": {},
   "outputs": [],
   "source": [
    "#F"
   ]
  },
  {
   "cell_type": "code",
   "execution_count": 15,
   "metadata": {},
   "outputs": [
    {
     "name": "stdout",
     "output_type": "stream",
     "text": [
      "                            OLS Regression Results                            \n",
      "==============================================================================\n",
      "Dep. Variable:                  sales   R-squared:                       0.968\n",
      "Model:                            OLS   Adj. R-squared:                  0.967\n",
      "Method:                 Least Squares   F-statistic:                     1963.\n",
      "Date:                Fri, 06 Mar 2020   Prob (F-statistic):          6.68e-146\n",
      "Time:                        16:56:23   Log-Likelihood:                -270.14\n",
      "No. Observations:                 200   AIC:                             548.3\n",
      "Df Residuals:                     196   BIC:                             561.5\n",
      "Df Model:                           3                                         \n",
      "Covariance Type:            nonrobust                                         \n",
      "==============================================================================\n",
      "                 coef    std err          t      P>|t|      [0.025      0.975]\n",
      "------------------------------------------------------------------------------\n",
      "Intercept      6.7502      0.248     27.233      0.000       6.261       7.239\n",
      "TV             0.0191      0.002     12.699      0.000       0.016       0.022\n",
      "radio          0.0289      0.009      3.241      0.001       0.011       0.046\n",
      "TV:radio       0.0011   5.24e-05     20.727      0.000       0.001       0.001\n",
      "==============================================================================\n",
      "Omnibus:                      128.132   Durbin-Watson:                   2.224\n",
      "Prob(Omnibus):                  0.000   Jarque-Bera (JB):             1183.719\n",
      "Skew:                          -2.323   Prob(JB):                    9.09e-258\n",
      "Kurtosis:                      13.975   Cond. No.                     1.80e+04\n",
      "==============================================================================\n",
      "\n",
      "Warnings:\n",
      "[1] Standard Errors assume that the covariance matrix of the errors is correctly specified.\n",
      "[2] The condition number is large, 1.8e+04. This might indicate that there are\n",
      "strong multicollinearity or other numerical problems.\n",
      "----- p-values ------\n",
      "Intercept    1.541461e-68\n",
      "TV:radio     2.757681e-51\n",
      "TV           2.363605e-27\n",
      "radio        1.400461e-03\n",
      "dtype: float64\n",
      "--- Significant Features - features with p-values < 5% -------\n",
      "Intercept    1.541461e-68\n",
      "TV           2.363605e-27\n",
      "radio        1.400461e-03\n",
      "TV:radio     2.757681e-51\n",
      "dtype: float64\n"
     ]
    }
   ],
   "source": [
    "#Let's create the second model\n",
    "# Fill the below with the formula of the model-2\n",
    "model_2 = smf.ols('sales ~ TV + radio + (TV * radio)', df).fit()\n",
    "print(model_2.summary())\n",
    "print(\"----- p-values ------\")\n",
    "print(model_2.pvalues.sort_values())\n",
    "print(\"--- Significant Features - features with p-values < 5% -------\")\n",
    "print(model_2.pvalues[model_2.pvalues<0.05])"
   ]
  },
  {
   "cell_type": "code",
   "execution_count": 16,
   "metadata": {},
   "outputs": [
    {
     "data": {
      "text/plain": [
       "(Text(0.5, 0, 'predicted sales'), Text(0, 0.5, 'studentized residual'))"
      ]
     },
     "execution_count": 16,
     "metadata": {},
     "output_type": "execute_result"
    },
    {
     "data": {
      "image/png": "[encoded data removed]",
      "text/plain": [
       "<Figure size 432x288 with 1 Axes>"
      ]
     },
     "metadata": {
      "needs_background": "light"
     },
     "output_type": "display_data"
    }
   ],
   "source": [
    "from statsmodels.nonparametric.smoothers_lowess import lowess\n",
    "#Perform Diagnostics of the least squares regression fit on model_2\n",
    "#First compute the studentized residuals.\n",
    "studentized_residuals_model2 = model_2.get_influence().resid_studentized_internal\n",
    "#Second compute the predicted values of Y from the model.\n",
    "predicted_Y_model2 = model_2.predict()\n",
    "plt.plot(predicted_Y_model2, studentized_residuals_model2, 'o'), plt.xlabel(\"predicted sales\"), plt.ylabel(\"Studentized residuals\")\n",
    "multi_lowess_result = lowess(studentized_residuals_model2, predicted_Y_model2, is_sorted=False, frac=1/2, it=0)\n",
    "plt.plot(multi_lowess_result[:, 0], multi_lowess_result[:, 1], 'r-', linewidth=3)\n",
    "plt.xlabel('predicted sales'), plt.ylabel('studentized residual')"
   ]
  },
  {
   "cell_type": "code",
   "execution_count": 17,
   "metadata": {},
   "outputs": [
    {
     "name": "stdout",
     "output_type": "stream",
     "text": [
      "34.1302\n"
     ]
    }
   ],
   "source": [
    "#G\n",
    "TV = 350\n",
    "radio = 50\n",
    "Sales = 6.7502 + (0.0191 * TV) + (0.0289 * radio) +(0.0011 * TV * radio)\n",
    "print(Sales)"
   ]
  },
  {
   "cell_type": "code",
   "execution_count": null,
   "metadata": {},
   "outputs": [],
   "source": []
  },
  {
   "cell_type": "code",
   "execution_count": null,
   "metadata": {},
   "outputs": [],
   "source": []
  },
  {
   "cell_type": "code",
   "execution_count": null,
   "metadata": {},
   "outputs": [],
   "source": []
  }
 ],
 "metadata": {
  "kernelspec": {
   "display_name": "Python 3",
   "language": "python",
   "name": "python3"
  },
  "language_info": {
   "codemirror_mode": {
    "name": "ipython",
    "version": 3
   },
   "file_extension": ".py",
   "mimetype": "text/x-python",
   "name": "python",
   "nbconvert_exporter": "python",
   "pygments_lexer": "ipython3",
   "version": "3.7.3"
  }
 },
 "nbformat": 4,
 "nbformat_minor": 2
}
